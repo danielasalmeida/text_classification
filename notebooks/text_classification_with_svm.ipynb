{
 "cells": [
  {
   "cell_type": "code",
   "execution_count": 1,
   "metadata": {},
   "outputs": [],
   "source": [
    "#Import libraries\n",
    "from sklearn import datasets\n",
    "from sklearn import svm\n",
    "from sklearn.model_selection import train_test_split\n",
    "from sklearn import metrics #for accuracy calculation\n",
    "#import os\n",
    "#import pandas as pd \n",
    "from nltk.tokenize import word_tokenize\n",
    "from sklearn.feature_extraction.text import TfidfVectorizer\n",
    "\n",
    "from sklearn.model_selection import RandomizedSearchCV\n",
    "from sklearn.model_selection import GridSearchCV\n",
    "from sklearn.metrics import classification_report, confusion_matrix, accuracy_score\n",
    "from sklearn.model_selection import ShuffleSplit\n",
    "\n",
    "import medical_text_classifier\n",
    "\n",
    "from nltk.corpus import stopwords\n",
    "from string import punctuation\n",
    "\n",
    "import matplotlib.pyplot as plt\n",
    "import seaborn as sns"
   ]
  },
  {
   "cell_type": "markdown",
   "metadata": {},
   "source": [
    "### 1. Load dataset"
   ]
  },
  {
   "cell_type": "code",
   "execution_count": 2,
   "metadata": {},
   "outputs": [
    {
     "data": {
      "text/html": [
       "<div>\n",
       "<style scoped>\n",
       "    .dataframe tbody tr th:only-of-type {\n",
       "        vertical-align: middle;\n",
       "    }\n",
       "\n",
       "    .dataframe tbody tr th {\n",
       "        vertical-align: top;\n",
       "    }\n",
       "\n",
       "    .dataframe thead th {\n",
       "        text-align: right;\n",
       "    }\n",
       "</style>\n",
       "<table border=\"1\" class=\"dataframe\">\n",
       "  <thead>\n",
       "    <tr style=\"text-align: right;\">\n",
       "      <th></th>\n",
       "      <th>file_name</th>\n",
       "      <th>category</th>\n",
       "      <th>text</th>\n",
       "    </tr>\n",
       "  </thead>\n",
       "  <tbody>\n",
       "    <tr>\n",
       "      <th>0</th>\n",
       "      <td>29.txt</td>\n",
       "      <td>neurologia</td>\n",
       "      <td>Introdução. Após um episódio de Acidente Vascu...</td>\n",
       "    </tr>\n",
       "    <tr>\n",
       "      <th>1</th>\n",
       "      <td>15.txt</td>\n",
       "      <td>neurologia</td>\n",
       "      <td>A Doença de Parkinson é considerada uma patolo...</td>\n",
       "    </tr>\n",
       "    <tr>\n",
       "      <th>2</th>\n",
       "      <td>14.txt</td>\n",
       "      <td>neurologia</td>\n",
       "      <td>A psiquiatria e a neurologia são especialidad...</td>\n",
       "    </tr>\n",
       "    <tr>\n",
       "      <th>3</th>\n",
       "      <td>28.txt</td>\n",
       "      <td>neurologia</td>\n",
       "      <td>Objetivo. Caracterizar o perfil da postura cor...</td>\n",
       "    </tr>\n",
       "    <tr>\n",
       "      <th>4</th>\n",
       "      <td>16.txt</td>\n",
       "      <td>neurologia</td>\n",
       "      <td>Após o acidente vascular cerebral (AVC), a rec...</td>\n",
       "    </tr>\n",
       "  </tbody>\n",
       "</table>\n",
       "</div>"
      ],
      "text/plain": [
       "  file_name    category                                               text\n",
       "0    29.txt  neurologia  Introdução. Após um episódio de Acidente Vascu...\n",
       "1    15.txt  neurologia  A Doença de Parkinson é considerada uma patolo...\n",
       "2    14.txt  neurologia   A psiquiatria e a neurologia são especialidad...\n",
       "3    28.txt  neurologia  Objetivo. Caracterizar o perfil da postura cor...\n",
       "4    16.txt  neurologia  Após o acidente vascular cerebral (AVC), a rec..."
      ]
     },
     "execution_count": 2,
     "metadata": {},
     "output_type": "execute_result"
    }
   ],
   "source": [
    "# Load Data\n",
    "path = \"../data/raw_test/\"\n",
    "df = medical_text_classifier.format_dataset(path)\n",
    "df.head()"
   ]
  },
  {
   "cell_type": "markdown",
   "metadata": {},
   "source": [
    "### 2. Preprocessing"
   ]
  },
  {
   "cell_type": "code",
   "execution_count": 3,
   "metadata": {},
   "outputs": [],
   "source": [
    "## TO-DO\n",
    "## Em text_preprocess criar um parametro que recebe um array settando as tecnicas de pre-processamento\n",
    "## Transformar categorias de string para numero no dataframe\n",
    "\n",
    "df = medical_text_classifier.text_preprocess(df[['category', 'text']].values)"
   ]
  },
  {
   "cell_type": "code",
   "execution_count": 4,
   "metadata": {},
   "outputs": [
    {
     "name": "stdout",
     "output_type": "stream",
     "text": [
      "(112, 2)\n"
     ]
    },
    {
     "data": {
      "text/html": [
       "<div>\n",
       "<style scoped>\n",
       "    .dataframe tbody tr th:only-of-type {\n",
       "        vertical-align: middle;\n",
       "    }\n",
       "\n",
       "    .dataframe tbody tr th {\n",
       "        vertical-align: top;\n",
       "    }\n",
       "\n",
       "    .dataframe thead th {\n",
       "        text-align: right;\n",
       "    }\n",
       "</style>\n",
       "<table border=\"1\" class=\"dataframe\">\n",
       "  <thead>\n",
       "    <tr style=\"text-align: right;\">\n",
       "      <th></th>\n",
       "      <th>text</th>\n",
       "    </tr>\n",
       "    <tr>\n",
       "      <th>category</th>\n",
       "      <th></th>\n",
       "    </tr>\n",
       "  </thead>\n",
       "  <tbody>\n",
       "    <tr>\n",
       "      <th>neurologia</th>\n",
       "      <td>56</td>\n",
       "    </tr>\n",
       "    <tr>\n",
       "      <th>pediatria</th>\n",
       "      <td>56</td>\n",
       "    </tr>\n",
       "  </tbody>\n",
       "</table>\n",
       "</div>"
      ],
      "text/plain": [
       "            text\n",
       "category        \n",
       "neurologia    56\n",
       "pediatria     56"
      ]
     },
     "execution_count": 4,
     "metadata": {},
     "output_type": "execute_result"
    }
   ],
   "source": [
    "print(df.shape)\n",
    "df.groupby('category').count()"
   ]
  },
  {
   "cell_type": "markdown",
   "metadata": {},
   "source": [
    "### 3. Split train and test dataset"
   ]
  },
  {
   "cell_type": "code",
   "execution_count": 6,
   "metadata": {},
   "outputs": [],
   "source": [
    "x_train, x_test, y_train, y_test = train_test_split(df['text'].values, \n",
    "                                                    df['category'].values, \n",
    "                                                    test_size=0.20,\n",
    "                                                    random_state=10)"
   ]
  },
  {
   "cell_type": "code",
   "execution_count": 8,
   "metadata": {},
   "outputs": [
    {
     "name": "stdout",
     "output_type": "stream",
     "text": [
      "Tamanho do dataset de treino: 89\n",
      "Tamanho do dataset de teste: 23\n"
     ]
    }
   ],
   "source": [
    "print('Tamanho do dataset de treino: {}'.format(len(y_train)))\n",
    "print('Tamanho do dataset de teste: {}'.format(len(y_test)))"
   ]
  },
  {
   "cell_type": "markdown",
   "metadata": {},
   "source": [
    "### 4. Text enconding"
   ]
  },
  {
   "cell_type": "code",
   "execution_count": 11,
   "metadata": {
    "scrolled": true
   },
   "outputs": [
    {
     "name": "stdout",
     "output_type": "stream",
     "text": [
      "(89, 100)\n",
      "(23, 100)\n"
     ]
    }
   ],
   "source": [
    "stopword = medical_text_classifier.get_stopwords()\n",
    "\n",
    "tfidf = TfidfVectorizer(encoding='utf-8',\n",
    "                        ngram_range=(1,2),\n",
    "                        stop_words=stopword,\n",
    "                        max_df=0.8,\n",
    "                        max_features=100)\n",
    "                        \n",
    "features_train = tfidf.fit_transform(x_train)\n",
    "labels_train = y_train\n",
    "\n",
    "features_test = tfidf.transform(x_test)\n",
    "labels_test = y_test"
   ]
  },
  {
   "cell_type": "code",
   "execution_count": null,
   "metadata": {},
   "outputs": [],
   "source": [
    "print(features_train.shape)\n",
    "print(features_test.shape)"
   ]
  },
  {
   "cell_type": "markdown",
   "metadata": {},
   "source": [
    "### 5. Model"
   ]
  },
  {
   "cell_type": "code",
   "execution_count": 14,
   "metadata": {},
   "outputs": [
    {
     "name": "stdout",
     "output_type": "stream",
     "text": [
      "Fitting 10 folds for each of 900 candidates, totalling 9000 fits\n"
     ]
    },
    {
     "name": "stderr",
     "output_type": "stream",
     "text": [
      "[Parallel(n_jobs=1)]: Using backend SequentialBackend with 1 concurrent workers.\n",
      "[Parallel(n_jobs=1)]: Done 9000 out of 9000 | elapsed:   47.8s finished\n",
      "/Users/danielaalmeida/anaconda3/lib/python3.7/site-packages/sklearn/model_selection/_search.py:813: DeprecationWarning: The default of the `iid` parameter will change from True to False in version 0.22 and will be removed in 0.24. This will change numeric results when test-set sizes are unequal.\n",
      "  DeprecationWarning)\n"
     ]
    },
    {
     "data": {
      "text/plain": [
       "GridSearchCV(cv=10, error_score='raise-deprecating',\n",
       "             estimator=SVC(C=1.0, cache_size=200, class_weight=None, coef0=0.0,\n",
       "                           decision_function_shape='ovr', degree=3,\n",
       "                           gamma='auto_deprecated', kernel='rbf', max_iter=-1,\n",
       "                           probability=False, random_state=8, shrinking=True,\n",
       "                           tol=0.001, verbose=False),\n",
       "             iid='warn', n_jobs=None,\n",
       "             param_grid={'C': [0.001, 0.01, 0.1, 1, 10],\n",
       "                         'degree': [1, 2, 3, 4, 5],\n",
       "                         'gamma': [0.001, 0.01, 0.1, 1, 10, 100],\n",
       "                         'kernel': ['linear', 'poly', 'rbf'],\n",
       "                         'probability': [True, False]},\n",
       "             pre_dispatch='2*n_jobs', refit=True, return_train_score=False,\n",
       "             scoring='accuracy', verbose=1)"
      ]
     },
     "execution_count": 14,
     "metadata": {},
     "output_type": "execute_result"
    }
   ],
   "source": [
    "C = [.001, .01, .1, 1, 10]\n",
    "degree = [1, 2, 3, 4, 5]\n",
    "gamma = [0.001, 0.01, 0.1, 1, 10, 100]\n",
    "probability = [True, False]\n",
    "kernels = ['linear', 'poly', 'rbf']\n",
    "\n",
    "param_grid = {'C': C, 'kernel':kernels, 'probability':probability, 'gamma':gamma, 'degree':degree}\n",
    "\n",
    "svc = svm.SVC(random_state=8)\n",
    "\n",
    "grid_search = GridSearchCV(estimator=svc, \n",
    "                           param_grid=param_grid,\n",
    "                           scoring='accuracy',\n",
    "                           cv=10,\n",
    "                           verbose=1)\n",
    "\n",
    "grid_search.fit(features_train, labels_train)"
   ]
  },
  {
   "cell_type": "code",
   "execution_count": 15,
   "metadata": {},
   "outputs": [
    {
     "name": "stdout",
     "output_type": "stream",
     "text": [
      "Melhores hiper parametros:\n",
      "{'C': 0.001, 'degree': 2, 'gamma': 100, 'kernel': 'poly', 'probability': True}\n",
      "Acurácia:\n",
      "0.8426966292134831\n"
     ]
    }
   ],
   "source": [
    "print(\"Melhores hiper parametros:\")\n",
    "print(grid_search.best_params_)\n",
    "print(\"Acurácia:\")\n",
    "print(grid_search.best_score_)"
   ]
  },
  {
   "cell_type": "code",
   "execution_count": 16,
   "metadata": {},
   "outputs": [
    {
     "data": {
      "text/plain": [
       "SVC(C=0.001, cache_size=200, class_weight=None, coef0=0.0,\n",
       "    decision_function_shape='ovr', degree=2, gamma=100, kernel='poly',\n",
       "    max_iter=-1, probability=True, random_state=8, shrinking=True, tol=0.001,\n",
       "    verbose=False)"
      ]
     },
     "execution_count": 16,
     "metadata": {},
     "output_type": "execute_result"
    }
   ],
   "source": [
    "best_model = grid_search.best_estimator_\n",
    "best_model.fit(features_train, labels_train)"
   ]
  },
  {
   "cell_type": "code",
   "execution_count": 18,
   "metadata": {
    "scrolled": false
   },
   "outputs": [
    {
     "name": "stdout",
     "output_type": "stream",
     "text": [
      "Acurácia: 0.8695652173913043\n",
      "              precision    recall  f1-score   support\n",
      "\n",
      "  neurologia       0.93      0.88      0.90        16\n",
      "   pediatria       0.75      0.86      0.80         7\n",
      "\n",
      "    accuracy                           0.87        23\n",
      "   macro avg       0.84      0.87      0.85        23\n",
      "weighted avg       0.88      0.87      0.87        23\n",
      "\n",
      "[[ 6  1]\n",
      " [ 2 14]]\n"
     ]
    }
   ],
   "source": [
    "y_predict = best_model.predict(features_test)\n",
    "print(\"Acurácia: {}\".format(accuracy_score(labels_test, y_predict)))\n",
    "print(classification_report(labels_test,y_predict))\n",
    "print(confusion_matrix(labels_test, y_predict, labels=['pediatria', 'neurologia']))"
   ]
  },
  {
   "cell_type": "markdown",
   "metadata": {},
   "source": [
    "###  com parâmetros pré-definidos\n",
    "\n",
    "Para rodar esses resultados, é necessário setar o parametro ind_stemmer em notebooks/medical_text_classifier.py como 1 (com stemmer) ou 0 (sem stemmer) e rodar novamente o código"
   ]
  },
  {
   "cell_type": "code",
   "execution_count": 21,
   "metadata": {},
   "outputs": [
    {
     "name": "stdout",
     "output_type": "stream",
     "text": [
      "Sem stemmer\n",
      "C=0.3\n",
      "Acurácia: 0.6086956521739131\n",
      "              precision    recall  f1-score   support\n",
      "\n",
      "  neurologia       1.00      0.44      0.61        16\n",
      "   pediatria       0.44      1.00      0.61         7\n",
      "\n",
      "    accuracy                           0.61        23\n",
      "   macro avg       0.72      0.72      0.61        23\n",
      "weighted avg       0.83      0.61      0.61        23\n",
      "\n",
      "[[7 0]\n",
      " [9 7]]\n",
      "\n",
      "C=1.0\n",
      "Acurácia: 0.8260869565217391\n",
      "              precision    recall  f1-score   support\n",
      "\n",
      "  neurologia       0.93      0.81      0.87        16\n",
      "   pediatria       0.67      0.86      0.75         7\n",
      "\n",
      "    accuracy                           0.83        23\n",
      "   macro avg       0.80      0.83      0.81        23\n",
      "weighted avg       0.85      0.83      0.83        23\n",
      "\n",
      "[[ 6  1]\n",
      " [ 3 13]]\n"
     ]
    }
   ],
   "source": [
    "print('Sem stemmer')\n",
    "best_model = svm.SVC(kernel='linear', C=.3, probability=True)\n",
    "best_model.fit(features_train, labels_train)\n",
    "y_predict = best_model.predict(features_test)\n",
    "\n",
    "print('C=0.3')\n",
    "print(\"Acurácia: {}\".format(accuracy_score(labels_test, y_predict)))\n",
    "print(classification_report(labels_test,y_predict))\n",
    "print(confusion_matrix(labels_test, y_predict, labels=['pediatria', 'neurologia']))\n",
    "\n",
    "best_model = svm.SVC(kernel='linear', C=1.0, probability=True)\n",
    "best_model.fit(features_train, labels_train)\n",
    "y_predict = best_model.predict(features_test)\n",
    "\n",
    "print('\\nC=1.0')\n",
    "print(\"Acurácia: {}\".format(accuracy_score(labels_test, y_predict)))\n",
    "print(classification_report(labels_test,y_predict))\n",
    "print(confusion_matrix(labels_test, y_predict, labels=['pediatria', 'neurologia']))"
   ]
  },
  {
   "cell_type": "code",
   "execution_count": 12,
   "metadata": {},
   "outputs": [
    {
     "name": "stdout",
     "output_type": "stream",
     "text": [
      "Com stemmer\n",
      "C=0.3\n",
      "Acurácia: 0.5652173913043478\n",
      "              precision    recall  f1-score   support\n",
      "\n",
      "  neurologia       0.88      0.44      0.58        16\n",
      "   pediatria       0.40      0.86      0.55         7\n",
      "\n",
      "    accuracy                           0.57        23\n",
      "   macro avg       0.64      0.65      0.56        23\n",
      "weighted avg       0.73      0.57      0.57        23\n",
      "\n",
      "[[6 1]\n",
      " [9 7]]\n",
      "\n",
      "C=1.0\n",
      "Acurácia: 0.8260869565217391\n",
      "              precision    recall  f1-score   support\n",
      "\n",
      "  neurologia       0.93      0.81      0.87        16\n",
      "   pediatria       0.67      0.86      0.75         7\n",
      "\n",
      "    accuracy                           0.83        23\n",
      "   macro avg       0.80      0.83      0.81        23\n",
      "weighted avg       0.85      0.83      0.83        23\n",
      "\n",
      "[[ 6  1]\n",
      " [ 3 13]]\n"
     ]
    }
   ],
   "source": [
    "print('Com stemmer')\n",
    "best_model = svm.SVC(kernel='linear', C=.3, probability=True)\n",
    "best_model.fit(features_train, labels_train)\n",
    "y_predict = best_model.predict(features_test)\n",
    "\n",
    "print('C=0.3')\n",
    "print(\"Acurácia: {}\".format(accuracy_score(labels_test, y_predict)))\n",
    "print(classification_report(labels_test,y_predict))\n",
    "print(confusion_matrix(labels_test, y_predict, labels=['pediatria', 'neurologia']))\n",
    "\n",
    "best_model = svm.SVC(kernel='linear', C=1.0, probability=True)\n",
    "best_model.fit(features_train, labels_train)\n",
    "y_predict = best_model.predict(features_test)\n",
    "\n",
    "print('\\nC=1.0')\n",
    "print(\"Acurácia: {}\".format(accuracy_score(labels_test, y_predict)))\n",
    "print(classification_report(labels_test,y_predict))\n",
    "print(confusion_matrix(labels_test, y_predict, labels=['pediatria', 'neurologia']))"
   ]
  }
 ],
 "metadata": {
  "kernelspec": {
   "display_name": "Python 3",
   "language": "python",
   "name": "python3"
  },
  "language_info": {
   "codemirror_mode": {
    "name": "ipython",
    "version": 3
   },
   "file_extension": ".py",
   "mimetype": "text/x-python",
   "name": "python",
   "nbconvert_exporter": "python",
   "pygments_lexer": "ipython3",
   "version": "3.7.3"
  }
 },
 "nbformat": 4,
 "nbformat_minor": 2
}
